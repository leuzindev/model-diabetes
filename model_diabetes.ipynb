{
 "cells": [
  {
   "cell_type": "code",
   "id": "initial_id",
   "metadata": {
    "collapsed": true,
    "ExecuteTime": {
     "end_time": "2024-04-12T19:56:30.836879Z",
     "start_time": "2024-04-12T19:56:30.829678Z"
    }
   },
   "source": [
    "import pandas as pd\n",
    "import matplotlib.pyplot as plt\n",
    "import seaborn as sns"
   ],
   "outputs": [],
   "execution_count": 1
  },
  {
   "metadata": {
    "ExecuteTime": {
     "end_time": "2024-04-12T19:58:25.964533Z",
     "start_time": "2024-04-12T19:58:25.954625Z"
    }
   },
   "cell_type": "code",
   "source": [
    "# Carregar arquivo para um DataFrame\n",
    "\n",
    "df_exames = pd.read_csv('./dataset/diabetes.csv')"
   ],
   "id": "337f3296b3764c4b",
   "outputs": [],
   "execution_count": 2
  },
  {
   "metadata": {
    "ExecuteTime": {
     "end_time": "2024-04-12T19:58:43.532986Z",
     "start_time": "2024-04-12T19:58:43.521946Z"
    }
   },
   "cell_type": "code",
   "source": "df_exames.info()",
   "id": "2c4a4fbdcba88695",
   "outputs": [
    {
     "name": "stdout",
     "output_type": "stream",
     "text": [
      "<class 'pandas.core.frame.DataFrame'>\n",
      "RangeIndex: 100 entries, 0 to 99\n",
      "Data columns (total 6 columns):\n",
      " #   Column       Non-Null Count  Dtype \n",
      "---  ------       --------------  ----- \n",
      " 0   id_paciente  100 non-null    int64 \n",
      " 1   genero       100 non-null    object\n",
      " 2   idade        100 non-null    int64 \n",
      " 3   peso         100 non-null    int64 \n",
      " 4   altura       100 non-null    int64 \n",
      " 5   resultado    100 non-null    int64 \n",
      "dtypes: int64(5), object(1)\n",
      "memory usage: 4.8+ KB\n"
     ]
    }
   ],
   "execution_count": 4
  },
  {
   "metadata": {
    "ExecuteTime": {
     "end_time": "2024-04-12T20:00:35.352332Z",
     "start_time": "2024-04-12T20:00:35.339469Z"
    }
   },
   "cell_type": "code",
   "source": "df_exames.head(10)",
   "id": "b2a621775097e3b3",
   "outputs": [
    {
     "data": {
      "text/plain": [
       "   id_paciente genero  idade  peso  altura  resultado\n",
       "0            1      M     46    83     165         98\n",
       "1            2      F     23    83     164         82\n",
       "2            3      M     39    71     154         93\n",
       "3            4      F     26   103     165         95\n",
       "4            5      M     27    55     176        100\n",
       "5            6      M     64    93     190        117\n",
       "6            7      F     21    70     182         90\n",
       "7            8      F     60   101     179         84\n",
       "8            9      F     63    83     189         92\n",
       "9           10      F     65    78     175        121"
      ],
      "text/html": [
       "<div>\n",
       "<style scoped>\n",
       "    .dataframe tbody tr th:only-of-type {\n",
       "        vertical-align: middle;\n",
       "    }\n",
       "\n",
       "    .dataframe tbody tr th {\n",
       "        vertical-align: top;\n",
       "    }\n",
       "\n",
       "    .dataframe thead th {\n",
       "        text-align: right;\n",
       "    }\n",
       "</style>\n",
       "<table border=\"1\" class=\"dataframe\">\n",
       "  <thead>\n",
       "    <tr style=\"text-align: right;\">\n",
       "      <th></th>\n",
       "      <th>id_paciente</th>\n",
       "      <th>genero</th>\n",
       "      <th>idade</th>\n",
       "      <th>peso</th>\n",
       "      <th>altura</th>\n",
       "      <th>resultado</th>\n",
       "    </tr>\n",
       "  </thead>\n",
       "  <tbody>\n",
       "    <tr>\n",
       "      <th>0</th>\n",
       "      <td>1</td>\n",
       "      <td>M</td>\n",
       "      <td>46</td>\n",
       "      <td>83</td>\n",
       "      <td>165</td>\n",
       "      <td>98</td>\n",
       "    </tr>\n",
       "    <tr>\n",
       "      <th>1</th>\n",
       "      <td>2</td>\n",
       "      <td>F</td>\n",
       "      <td>23</td>\n",
       "      <td>83</td>\n",
       "      <td>164</td>\n",
       "      <td>82</td>\n",
       "    </tr>\n",
       "    <tr>\n",
       "      <th>2</th>\n",
       "      <td>3</td>\n",
       "      <td>M</td>\n",
       "      <td>39</td>\n",
       "      <td>71</td>\n",
       "      <td>154</td>\n",
       "      <td>93</td>\n",
       "    </tr>\n",
       "    <tr>\n",
       "      <th>3</th>\n",
       "      <td>4</td>\n",
       "      <td>F</td>\n",
       "      <td>26</td>\n",
       "      <td>103</td>\n",
       "      <td>165</td>\n",
       "      <td>95</td>\n",
       "    </tr>\n",
       "    <tr>\n",
       "      <th>4</th>\n",
       "      <td>5</td>\n",
       "      <td>M</td>\n",
       "      <td>27</td>\n",
       "      <td>55</td>\n",
       "      <td>176</td>\n",
       "      <td>100</td>\n",
       "    </tr>\n",
       "    <tr>\n",
       "      <th>5</th>\n",
       "      <td>6</td>\n",
       "      <td>M</td>\n",
       "      <td>64</td>\n",
       "      <td>93</td>\n",
       "      <td>190</td>\n",
       "      <td>117</td>\n",
       "    </tr>\n",
       "    <tr>\n",
       "      <th>6</th>\n",
       "      <td>7</td>\n",
       "      <td>F</td>\n",
       "      <td>21</td>\n",
       "      <td>70</td>\n",
       "      <td>182</td>\n",
       "      <td>90</td>\n",
       "    </tr>\n",
       "    <tr>\n",
       "      <th>7</th>\n",
       "      <td>8</td>\n",
       "      <td>F</td>\n",
       "      <td>60</td>\n",
       "      <td>101</td>\n",
       "      <td>179</td>\n",
       "      <td>84</td>\n",
       "    </tr>\n",
       "    <tr>\n",
       "      <th>8</th>\n",
       "      <td>9</td>\n",
       "      <td>F</td>\n",
       "      <td>63</td>\n",
       "      <td>83</td>\n",
       "      <td>189</td>\n",
       "      <td>92</td>\n",
       "    </tr>\n",
       "    <tr>\n",
       "      <th>9</th>\n",
       "      <td>10</td>\n",
       "      <td>F</td>\n",
       "      <td>65</td>\n",
       "      <td>78</td>\n",
       "      <td>175</td>\n",
       "      <td>121</td>\n",
       "    </tr>\n",
       "  </tbody>\n",
       "</table>\n",
       "</div>"
      ]
     },
     "execution_count": 5,
     "metadata": {},
     "output_type": "execute_result"
    }
   ],
   "execution_count": 5
  }
 ],
 "metadata": {
  "kernelspec": {
   "display_name": "Python 3",
   "language": "python",
   "name": "python3"
  },
  "language_info": {
   "codemirror_mode": {
    "name": "ipython",
    "version": 2
   },
   "file_extension": ".py",
   "mimetype": "text/x-python",
   "name": "python",
   "nbconvert_exporter": "python",
   "pygments_lexer": "ipython2",
   "version": "2.7.6"
  }
 },
 "nbformat": 4,
 "nbformat_minor": 5
}
